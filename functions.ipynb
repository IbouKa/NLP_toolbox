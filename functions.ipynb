{
 "cells": [
  {
   "cell_type": "code",
   "execution_count": 4,
   "id": "1d9ae12f",
   "metadata": {},
   "outputs": [],
   "source": [
    "import re\n",
    "from functions import clean_text , any_neg, any_rare, is_question"
   ]
  },
  {
   "cell_type": "code",
   "execution_count": 9,
   "id": "820a9746",
   "metadata": {},
   "outputs": [],
   "source": [
    "text = \"Ibou Ka as IBK is a Data - ) çà °°94 3scientè_ist  no\""
   ]
  },
  {
   "cell_type": "code",
   "execution_count": 10,
   "id": "4c988033",
   "metadata": {},
   "outputs": [
    {
     "data": {
      "text/plain": [
       "'ibou ka as ibk is a data              scient  ist  no'"
      ]
     },
     "execution_count": 10,
     "metadata": {},
     "output_type": "execute_result"
    }
   ],
   "source": [
    "clean_text(text)"
   ]
  },
  {
   "cell_type": "code",
   "execution_count": 11,
   "id": "7a957faf",
   "metadata": {},
   "outputs": [
    {
     "data": {
      "text/plain": [
       "1"
      ]
     },
     "execution_count": 11,
     "metadata": {},
     "output_type": "execute_result"
    }
   ],
   "source": [
    "any_neg(re.split(' ',text))"
   ]
  },
  {
   "cell_type": "code",
   "execution_count": 12,
   "id": "6a18aa29",
   "metadata": {},
   "outputs": [
    {
     "data": {
      "text/plain": [
       "0"
      ]
     },
     "execution_count": 12,
     "metadata": {},
     "output_type": "execute_result"
    }
   ],
   "source": [
    "is_question(re.split(' ',text))"
   ]
  }
 ],
 "metadata": {
  "kernelspec": {
   "display_name": "Python 3 (ipykernel)",
   "language": "python",
   "name": "python3"
  },
  "language_info": {
   "codemirror_mode": {
    "name": "ipython",
    "version": 3
   },
   "file_extension": ".py",
   "mimetype": "text/x-python",
   "name": "python",
   "nbconvert_exporter": "python",
   "pygments_lexer": "ipython3",
   "version": "3.8.12"
  }
 },
 "nbformat": 4,
 "nbformat_minor": 5
}
